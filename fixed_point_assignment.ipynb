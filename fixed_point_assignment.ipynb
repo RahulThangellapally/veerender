{
  "nbformat": 4,
  "nbformat_minor": 0,
  "metadata": {
    "colab": {
      "name": "fixed_point_assignment.ipynb",
      "version": "0.3.2",
      "provenance": [],
      "collapsed_sections": [],
      "include_colab_link": true
    },
    "kernelspec": {
      "name": "python3",
      "display_name": "Python 3"
    },
    "accelerator": "TPU"
  },
  "cells": [
    {
      "cell_type": "markdown",
      "metadata": {
        "id": "view-in-github",
        "colab_type": "text"
      },
      "source": [
        "<a href=\"https://colab.research.google.com/github/veerenderreddy/veerender/blob/master/fixed_point_assignment.ipynb\" target=\"_parent\"><img src=\"https://colab.research.google.com/assets/colab-badge.svg\" alt=\"Open In Colab\"/></a>"
      ]
    },
    {
      "metadata": {
        "id": "GolwYzW_H9pp",
        "colab_type": "code",
        "colab": {
          "base_uri": "https://localhost:8080/",
          "height": 193
        },
        "outputId": "b83e0d8c-ab5c-4220-b5ed-d60b0bfec9ca"
      },
      "cell_type": "code",
      "source": [
        "from decimal import *\n",
        "import numpy as np\n",
        "import math\n",
        "\n",
        "# specify lower and upper bound floating point numbers\n",
        "lower = (float)(input(\"specify lower bound: \"))\n",
        "upper = (float)(input(\"specify upper bound: \"))\n",
        "#user_input = input(\"specify as [lower,upper] bounds: \")\n",
        "#float_range = np.array([lower,upper],'f')\n",
        "\n",
        "\n",
        "print(upper)  # ensuring upper bound as specified by user\n",
        "\n",
        "# Here limitation is with 16-bit registers\n",
        "# so, finding the right q-format to fix integer bits as  floor(log2(upper-lower))+1\n",
        "\n",
        "q_int = math.floor(math.log2(upper-lower))+1\n",
        "print(q_int)    # fixed point integer bits (MSBs)\n",
        "\n",
        "# fractional bits = 16 - integer bits\n",
        "q_fract = 16 - q_int\n",
        "print(q_fract)   # fixed point fractional bits (LSBs)\n",
        "\n",
        "# floating point to fixed point conversion\n",
        "X_float = (float)(input(\"specify any floating point number in [lower,upper] range: \"))  # limitation of input entry as string \n",
        "\n",
        "X_F = math.floor(X_float*math.pow(2,q_fract))\n",
        "print(X_F)\n",
        "\n",
        "a = (float)(input(\"enter base value a to compute a^x: \"))\n",
        "\n",
        "\"\"\"# For any arbitrary function on X_float  eg:a^x_float; to implement in fixed-point\n",
        "a = (float)(input(\"enter base value a to compute a^x: \"))\n",
        "func_upper = math.pow(a,upper)\n",
        "func_lower = math.pow(a,lower)\n",
        "print(func_upper)\n",
        "\n",
        "q_funcint = math.floor(math.log2(func_upper-func_lower))+1\n",
        "print(q_funcint)\n",
        "\n",
        "q_funcfract = 16 - q_funcint\n",
        "print(q_funcfract)\n",
        "\n",
        "X_funcfloat = math.pow(a,X_float)\n",
        "\n",
        "X_funcF = math.floor(X_funcfloat*math.pow(2,q_funcfract))\n",
        "print(X_funcF)\n",
        "\"\"\"\n",
        "\n",
        "\n"
      ],
      "execution_count": 68,
      "outputs": [
        {
          "output_type": "stream",
          "text": [
            "specify lower bound: -4\n",
            "specify upper bound: 5\n",
            "5.0\n",
            "4\n",
            "12\n",
            "specify any floating point number in [lower,upper] range: 5.0\n",
            "20480\n",
            "enter base value a to compute a^x: 2\n"
          ],
          "name": "stdout"
        },
        {
          "output_type": "execute_result",
          "data": {
            "text/plain": [
              "'# For any arbitrary function on X_float  eg:a^x_float; to implement in fixed-point\\na = (float)(input(\"enter base value a to compute a^x: \"))\\nfunc_upper = math.pow(a,upper)\\nfunc_lower = math.pow(a,lower)\\nprint(func_upper)\\n\\nq_funcint = math.floor(math.log2(func_upper-func_lower))+1\\nprint(q_funcint)\\n\\nq_funcfract = 16 - q_funcint\\nprint(q_funcfract)\\n\\nX_funcfloat = math.pow(a,X_float)\\n\\nX_funcF = math.floor(X_funcfloat*math.pow(2,q_funcfract))\\nprint(X_funcF)\\n'"
            ]
          },
          "metadata": {
            "tags": []
          },
          "execution_count": 68
        }
      ]
    },
    {
      "metadata": {
        "id": "KM1ibvGlX7ZD",
        "colab_type": "code",
        "colab": {}
      },
      "cell_type": "code",
      "source": [
        "# approximating function df(x)/dx = a^x using runge-kutta method\n",
        "def dfdx(a,x): \n",
        "    #try:\n",
        "        #ans = math.exp(200000)\n",
        "    #except OverflowError:\n",
        "        #ans = float('inf')\n",
        "    return (math.pow(a,x)*math.log(2)) \n",
        "  \n",
        "# Finds value of y for a given x using step size h \n",
        "# and initial value y0 at x0. \n",
        "def rungeKutta(x0, y0, x, h): \n",
        "    # Count number of iterations using step size or \n",
        "    # step height h \n",
        "    n = (int)((x - x0)/h)  \n",
        "    # Iterate for number of iterations \n",
        "    y = y0 \n",
        "    for i in range(1, n + 1): \n",
        "        \"Apply Runge Kutta Formulas to find next value of y\"\n",
        "        k1 = h * dfdx(x0, y) \n",
        "        k2 = h * dfdx(x0 + 0.5 * h, y + 0.5 * k1) \n",
        "        k3 = h * dfdx(x0 + 0.5 * h, y + 0.5 * k2) \n",
        "        k4 = h * dfdx(x0 + h, y + k3) \n",
        "  \n",
        "        # Update next value of y \n",
        "        y = y + (1.0 / 6.0)*(k1 + 2 * k2 + 2 * k3 + k4) \n",
        "  \n",
        "        # Update next value of x \n",
        "        x0 = x0 + h \n",
        "    return y "
      ],
      "execution_count": 0,
      "outputs": []
    },
    {
      "metadata": {
        "id": "5oBzvR2WxVfl",
        "colab_type": "code",
        "colab": {
          "base_uri": "https://localhost:8080/",
          "height": 34
        },
        "outputId": "f4ac9e12-5ee2-4354-eb3f-62d9f966cb88"
      },
      "cell_type": "code",
      "source": [
        "#Testing function using Runge-kutta method\n",
        "x0 = 0\n",
        "y0 = 1\n",
        "x = 2\n",
        "h = 0.2\n",
        "rungeKutta(x0, y0, x, h) "
      ],
      "execution_count": 75,
      "outputs": [
        {
          "output_type": "execute_result",
          "data": {
            "text/plain": [
              "3.3361079414246495"
            ]
          },
          "metadata": {
            "tags": []
          },
          "execution_count": 75
        }
      ]
    }
  ]
}